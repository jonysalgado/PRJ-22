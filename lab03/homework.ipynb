{
 "cells": [
  {
   "cell_type": "code",
   "execution_count": 24,
   "source": [
    "import design_tools_template as dt\n",
    "import numpy as np\n",
    "from math import tan, fabs\n",
    "import json"
   ],
   "outputs": [],
   "metadata": {}
  },
  {
   "cell_type": "code",
   "execution_count": 2,
   "source": [
    "aircraft = dt.default_aircraft()"
   ],
   "outputs": [],
   "metadata": {}
  },
  {
   "cell_type": "code",
   "execution_count": 35,
   "source": [
    "def geometry(aircraft):\n",
    "\n",
    "    Lv_bw = aircraft['geo_param']['EV']['Lb']\n",
    "    ARw = aircraft['geo_param']['wing']['AR']\n",
    "    Sw = aircraft['geo_param']['wing']['S']\n",
    "    xr_w = aircraft['geo_param']['wing']['xr']\n",
    "    zr_w = aircraft['geo_param']['wing']['zr']\n",
    "    delta_w = aircraft['geo_param']['wing']['dihedral']\n",
    "    lambda_w = aircraft['geo_param']['wing']['taper']\n",
    "    sweep_w = aircraft['geo_param']['wing']['sweep']\n",
    "    Cvt = aircraft['geo_param']['EV']['Cvt']\n",
    "    ARv = aircraft['geo_param']['EV']['AR']\n",
    "    lambda_v = aircraft['geo_param']['EV']['taper']\n",
    "    zr_v = aircraft['geo_param']['EV']['zr']\n",
    "    sweep_v = aircraft['geo_param']['EV']['sweep']\n",
    "\n",
    "\n",
    "    dimensions = {}\n",
    "    wing = {}\n",
    "    EV = {}\n",
    "    # parâmetros da asa\n",
    "\n",
    "    bw = np.sqrt(ARw * Sw)\n",
    "    wing['b'] = bw\n",
    "    cr_w = 2 * Sw / (bw * (1 + lambda_w))\n",
    "    wing['cr'] = cr_w\n",
    "    ct_w = lambda_w * cr_w\n",
    "    wing['ct'] = ct_w\n",
    "\n",
    "    yt_w = bw / 2\n",
    "    xt_w = xr_w + yt_w * tan(sweep_w) + (cr_w - ct_w)/4 \n",
    "    wing['xt'] = xt_w\n",
    "    wing['yt'] = yt_w\n",
    "    zt_w = zr_w + yt_w * tan(delta_w)\n",
    "    wing['zt'] = zt_w\n",
    "    cm_w = 2 * cr_w * (1 + lambda_w + lambda_w**2)/(3 * (1 + lambda_w))\n",
    "    wing['cm'] = cm_w\n",
    "    ym_w = bw * (1 + 2 * lambda_w)/(6 * (1 + lambda_w))\n",
    "    xm_w = xr_w + ym_w * tan(sweep_w) + (cr_w - cm_w)/4\n",
    "    wing['xm'] = xm_w\n",
    "    wing['ym'] = ym_w\n",
    "    zm_w = zr_w + ym_w * tan(delta_w)\n",
    "    wing['zm'] = zm_w\n",
    "\n",
    "    # parâmetros da empenagem vertical\n",
    "\n",
    "    Lv = Lv_bw * bw\n",
    "    EV['L'] = Lv\n",
    "    Sv = Sw * bw * Cvt / Lv\n",
    "    EV['S'] = Sv\n",
    "\n",
    "    bv = np.sqrt(ARv * Sv)\n",
    "    EV['b'] = bv\n",
    "\n",
    "    cr_v = 2 * Sv/(bv * (1 + lambda_v))\n",
    "    EV['cr'] = cr_v\n",
    "\n",
    "    ct_v = lambda_v * cr_v\n",
    "    EV['ct'] = ct_v\n",
    "\n",
    "    cm_v = 2 * cr_v * (1 + lambda_v + lambda_v**2)/(3 * (1 + lambda_v))\n",
    "    xm_v = xm_w + Lv + (cm_w - cm_v)/4\n",
    "    zm_v = zr_v + bv * (1 + 2 * lambda_v)/(3 * (1 + lambda_v))\n",
    "    xr_v = xm_v - (zm_v - zr_v) * tan(sweep_v) + (cm_v - cr_v)/4\n",
    "    EV['xr'] = xr_v\n",
    "\n",
    "    zt_v = zr_v + bv\n",
    "    xt_v = xr_v + (zt_v - zr_v) * tan(sweep_v) + (cr_v - ct_v)/4\n",
    "    EV['xt'] = xt_v\n",
    "\n",
    "    EV['zt'] = zt_v\n",
    "\n",
    "    cm_v = (2 * cr_v/3) * (1 + lambda_v + lambda_v**2)/(1 + lambda_v)\n",
    "    EV['cm'] = cm_v\n",
    "\n",
    "\n",
    "    EV['xm'] =xm_v\n",
    "\n",
    "    zm_v = zr_v + bv * (1 + 2 * lambda_v)/(3 * (1 + lambda_v))\n",
    "    EV['zm'] = zm_v\n",
    "\n",
    "    \n",
    "    dimensions['wing'] = wing\n",
    "    dimensions['EV'] = EV\n",
    "\n",
    "    return dimensions"
   ],
   "outputs": [],
   "metadata": {}
  },
  {
   "cell_type": "code",
   "execution_count": null,
   "source": [
    "print(json.dumps(aircraft, indent = 4))"
   ],
   "outputs": [],
   "metadata": {}
  },
  {
   "cell_type": "code",
   "execution_count": 13,
   "source": [
    "dimensions_test = {\n",
    "            \"wing\": {\n",
    "            \"b\": 28.074988869098416 ,\n",
    "            \"cr\": 5.3933059334262 ,\n",
    "            \"ct\": 1.267426894355157 ,\n",
    "            \"xt\": 18.944010614572072 ,\n",
    "            \"yt\": 14.037494434549208 ,\n",
    "            \"zt\": 1.2281216273313065 ,\n",
    "            \"cm\": 3.756317488774531 ,\n",
    "            \"xm\": 15.659971822785682 ,\n",
    "            \"ym\": 5.569532204800901 ,\n",
    "            \"zm\": 0.4872709290626237\n",
    "            },\n",
    "            \"EV\": {\n",
    "            \"S\": 14.959999999999999 ,\n",
    "            \"L\": 15.44124387800413 ,\n",
    "            \"b\": 4.358807176281144 ,\n",
    "            \"cr\": 3.944978890651773 ,\n",
    "            \"ct\": 2.919284379082312 ,\n",
    "            \"xr\": 29.25388711043971 ,\n",
    "            \"xt\": 33.299364009371466 ,\n",
    "            \"zt\": 4.358807176281144 ,\n",
    "            \"cm\": 3.4576757510555542 ,\n",
    "            \"xm\": 31.17587613521955 ,\n",
    "            \"zm\": 2.070850918999471\n",
    "            }\n",
    "        }"
   ],
   "outputs": [],
   "metadata": {}
  },
  {
   "cell_type": "code",
   "execution_count": 38,
   "source": [
    "answer = geometry(aircraft)\n",
    "for key, value in dimensions_test[\"wing\"].items():\n",
    "    calculado = answer[\"wing\"][key]\n",
    "    diferenca = fabs(calculado - value)\n",
    "    if diferenca < 1.0e-13:\n",
    "        print(f\"{key}: {value} -> ok\")\n",
    "    else:\n",
    "        diferenca = fabs(calculado - value)\n",
    "        print(f\"{key} -> Valor esperado: {value}, valor recebido: {calculado}, diferença de {diferenca}\")"
   ],
   "outputs": [
    {
     "output_type": "stream",
     "name": "stdout",
     "text": [
      "b: 28.074988869098416 -> ok\n",
      "cr: 5.3933059334262 -> ok\n",
      "ct: 1.267426894355157 -> ok\n",
      "xt: 18.944010614572072 -> ok\n",
      "yt: 14.037494434549208 -> ok\n",
      "zt: 1.2281216273313065 -> ok\n",
      "cm: 3.756317488774531 -> ok\n",
      "xm: 15.659971822785682 -> ok\n",
      "ym: 5.569532204800901 -> ok\n",
      "zm: 0.4872709290626237 -> ok\n"
     ]
    }
   ],
   "metadata": {}
  },
  {
   "cell_type": "code",
   "execution_count": 37,
   "source": [
    "answer = geometry(aircraft)\n",
    "for key, value in dimensions_test[\"EV\"].items():\n",
    "    calculado = answer[\"EV\"][key]\n",
    "    diferenca = fabs(calculado - value)\n",
    "    if diferenca < 1.0e-13:\n",
    "        print(f\"{key}: {value} -> ok\")\n",
    "    else:\n",
    "        diferenca = fabs(calculado - value)\n",
    "        print(f\"{key} -> Valor esperado: {value}, valor recebido: {calculado}, diferença de {diferenca}\")"
   ],
   "outputs": [
    {
     "output_type": "stream",
     "name": "stdout",
     "text": [
      "S: 14.959999999999999 -> ok\n",
      "L: 15.44124387800413 -> ok\n",
      "b: 4.358807176281144 -> ok\n",
      "cr: 3.944978890651773 -> ok\n",
      "ct: 2.919284379082312 -> ok\n",
      "xr: 29.25388711043971 -> ok\n",
      "xt: 33.299364009371466 -> ok\n",
      "zt: 4.358807176281144 -> ok\n",
      "cm: 3.4576757510555542 -> ok\n",
      "xm: 31.17587613521955 -> ok\n",
      "zm: 2.070850918999471 -> ok\n"
     ]
    }
   ],
   "metadata": {}
  }
 ],
 "metadata": {
  "orig_nbformat": 4,
  "language_info": {
   "name": "python",
   "version": "3.8.10",
   "mimetype": "text/x-python",
   "codemirror_mode": {
    "name": "ipython",
    "version": 3
   },
   "pygments_lexer": "ipython3",
   "nbconvert_exporter": "python",
   "file_extension": ".py"
  },
  "kernelspec": {
   "name": "python3",
   "display_name": "Python 3.8.10 64-bit"
  },
  "interpreter": {
   "hash": "916dbcbb3f70747c44a77c7bcd40155683ae19c65e1c03b4aa3499c5328201f1"
  }
 },
 "nbformat": 4,
 "nbformat_minor": 2
}